{
 "cells": [
  {
   "cell_type": "markdown",
   "metadata": {},
   "source": [
    "# Digital Signal Processing\n",
    "\n",
    "This collection contains the lecture notes to the masters course [Digital Signal Processing](http://www.int.uni-rostock.de/Digitale-Signalverarbeitung.48.0.html), [Institute of Communications Engineering](http://www.int.uni-rostock.de/), Universität Rostock read by [Sascha Spors](http://www.int.uni-rostock.de/Staff-Info.23+B6JmNIYXNoPWUxOTliMTNjY2U2MDcyZjJiZTI0YTc4MmFkYTE5NjQzJnR4X2pwc3RhZmZfcGkxJTVCYmFja0lkJTVEPTMmdHhfanBzdGFmZl9waTElNUJzaG93VWlkJTVEPTExMQ__.0.html). The notes are provided in the form of [jupyter](https://jupyter.org/) notebooks using IPython 3."
   ]
  },
  {
   "cell_type": "markdown",
   "metadata": {},
   "source": [
    "## Table of Contents\n",
    "\n",
    "The contents of the notebooks are under heavy development. New units will be added throughout the winter 2015/16. Feel free to [contact me](<mailto:Sascha.Spors@uni-rostock.de>) if you find errors, or have questions and suggestions.\n",
    "\n",
    "#### 0. Introduction\n",
    "\n",
    "#### 1. Spectral Analysis of Deterministic Signals\n",
    "\n",
    "* [The Leakage-Effect](spectral_analysis_deterministic_signals/leakage_effect.ipynb)\n",
    "* [Window Functions](spectral_analysis_deterministic_signals/window_functions.ipynb)\n",
    "* [Zero-Padding](spectral_analysis_deterministic_signals/zero_padding.ipynb)\n",
    "* [Short-Time Fourier Transformation](spectral_analysis_deterministic_signals/stft.ipynb)\n",
    "\n",
    "#### 2. Random Signals\n",
    "\n",
    "* [Introduction](random_signals/introduction.ipynb)\n",
    "* [Amplitude Distributions](random_signals/distributions.ipynb)\n",
    "* [Ensemble Averages](random_signals/ensemble_averages.ipynb)\n",
    "* [Stationary and Ergodic Processes](random_signals/stationary_ergodic.ipynb)\n",
    "* [Correlation Functions](random_signals/correlation_functions.ipynb)\n",
    "* [Power Spectral Densities](random_signals/power_spectral_densities.ipynb)\n",
    "* [Important Amplitude Distributions](random_signals/important_distributions.ipynb)\n",
    "* [White Noise](random_signals/white_noise.ipynb)\n",
    "* [Superposition of Random Signals](random_signals/superposition.ipynb)\n",
    "\n",
    "#### 3. Random Signals and LTI Systems\n",
    "\n",
    "* [Introduction](random_signals_LTI_systems/introduction.ipynb)\n",
    "* [Linear Mean](random_signals_LTI_systems/linear_mean.ipynb)\n",
    "* [Correlation Functions](random_signals_LTI_systems/correlation_functions.ipynb)\n",
    "* [Example: Measurement of Acoustic Impulse Responses](random_signals_LTI_systems/acoustic_impulse_response_measurement.ipynb)\n",
    "* [Power Spectral Densities](random_signals_LTI_systems/power_spectral_densities.ipynb)\n",
    "* [Wiener Filter](random_signals_LTI_systems/wiener_filter.ipynb)\n",
    "\n",
    "#### 4. Spectral Estimation of Random Signals\n",
    "\n",
    "* [Introduction](spectral_estimation_random_signals/introduction.ipynb)\n",
    "* [Periodogram](spectral_estimation_random_signals/periodogram.ipynb)\n",
    "* [Welch-Method](spectral_estimation_random_signals/welch_method.ipynb)\n",
    "* [Parametric Methods](spectral_estimation_random_signals/parametric_methods.ipynb)\n",
    "\n",
    "#### 5. Quantization\n",
    "\n",
    "* [Introduction](quantization/introduction.ipynb)\n",
    "* [Characteristic of Linear Uniform Quantization](quantization/linear_uniform_characteristic.ipynb)\n",
    "* [Quantization Error of Linear Uniform Quantization](quantization/linear_uniform_quantization_error.ipynb)\n",
    "* [Example: Requantization of a Speech Signal](quantization/requantization_speech_signal.ipynb)\n",
    "* [Noise Shaping](quantization/noise_shaping.ipynb)\n",
    "* [Oversampling](quantization/oversampling.ipynb)\n",
    "* [Example: Non-Linear Quantization of a Speech Signal](quantization/nonlinear_quantization_speech_signal.ipynb)\n",
    "\n",
    "#### 6. Realization of Non-Recursive Filters\n",
    "\n",
    "* [Introduction](nonrecursive_filters/introduction.ipynb)\n",
    "* [Fast Convolution](nonrecursive_filters/fast_convolution.ipynb)\n",
    "* [Segmented Convolution](nonrecursive_filters/segmented_convolution.ipynb)\n",
    "* [Quantization Effects](nonrecursive_filters/quantization_effects.ipynb)\n",
    "\n",
    "#### 7. Realization of Recursive Filters\n",
    "\n",
    "* [Introduction](recursive_filters/introduction.ipynb)\n",
    "* [Direct Form Structures](recursive_filters/direct_forms.ipynb)\n",
    "* [Cascaded Structures](recursive_filters/cascaded_structures.ipynb)\n",
    "* [Quantization of Filter Coefficients](recursive_filters/quantization_of_coefficients.ipynb)\n",
    "* [Quantization of Variables and Operations](recursive_filters/quantization_of_variables.ipynb)\n",
    "\n",
    "#### 8. Design of Non-Recursive and Recursive Filters"
   ]
  },
  {
   "cell_type": "markdown",
   "metadata": {},
   "source": [
    "## Getting Started\n",
    "\n",
    "The jupyter notebooks are available\n",
    "\n",
    "* Online as [static web pages](http://nbviewer.ipython.org/github/spatialaudio/digital-signal-processing-lecture/blob/master/index.ipynb)\n",
    "* Online for [interactive use](http://mybinder.org/repo/spatialaudio/digital-signal-processing-lecture)\n",
    "* Local (offline) use on your computer\n",
    "\n",
    "For local use on your computer, e.g. for the exercises, you have to [download the notebooks from Github](http://github.com/spatialaudio/digital-signal-processing-lecture). Use [Git](http://git-scm.org/) to download the files and then start the Juyter notebook:\n",
    "\n",
    "    git clone https://github.com/spatialaudio/digital-signal-processing-lecture.git\n",
    "    cd digital-signal-processing-lecture\n",
    "    jupyter-notebook\n",
    "    \n",
    "This will open a new view in your web browser with a list of notebooks. Click on [index.ipynb](index.ipynb) (or any of the other available notebooks). Alternatively, you can also download individual notebook files (with the extension `.ipynb`) and open them in Jupyter. Note that some notebooks make use of additional files (audio files etc.) which you'll then also have to download manually."
   ]
  },
  {
   "cell_type": "markdown",
   "metadata": {},
   "source": [
    "## Literature\n",
    "\n",
    "The lecture notes base on the following literature:\n",
    "\n",
    "* Alan V. Oppenheim and Ronald W. Schafer, *Discrete-Time Signal Processing*, Pearson Prentice Hall, 2010.\n",
    "* John G. Proakis and Dimitris K. Manolakis, *Digital Signal Processing*, Pearson, 2006.\n",
    "* Petre Stoica and Randolph Moses, *Spectral Analysis of Signals*, Prentice Hall, 2005.\n",
    "* Udo Zölzer, *Digitale Audiosignalverarbeitung*, Teubner, 2005.\n",
    "* Peter Vary, Ulrich Heute and Wolfgang Hess, *Digitale Sprachsignalverarbeitung*, Teubner, 1998.\n",
    "* Bernd Girod, Rudolf Rabenstein, Alexander Stenger, *Einführung in die Systemtheorie*, B.G. Teubner Verlag, 2007."
   ]
  },
  {
   "cell_type": "markdown",
   "metadata": {},
   "source": [
    "## Contributors\n",
    "\n",
    "* Sascha Spors (Author)\n",
    "* Frank Schultz (Proofreading)\n",
    "* Vera Erbes (Proofreading)"
   ]
  },
  {
   "cell_type": "markdown",
   "metadata": {},
   "source": [
    "** Copyright **\n",
    "\n",
    "<p xmlns:dct=\"http://purl.org/dc/terms/\">\n",
    "  <a rel=\"license\"\n",
    "     href=\"http://creativecommons.org/publicdomain/zero/1.0/\">\n",
    "    <img src=\"http://i.creativecommons.org/p/zero/1.0/88x31.png\" style=\"border-style: none;\" alt=\"CC0\" />\n",
    "  </a>\n",
    "  <br />\n",
    "  To the extent possible under law,\n",
    "  <span rel=\"dct:publisher\" resource=\"[_:publisher]\">the person who associated CC0</span>\n",
    "  with this work has waived all copyright and related or neighboring\n",
    "  rights to this work.\n",
    "</p>"
   ]
  }
 ],
 "metadata": {
  "kernelspec": {
   "display_name": "Python 3",
   "language": "python",
   "name": "python3"
  },
  "language_info": {
   "codemirror_mode": {
    "name": "ipython",
    "version": 3
   },
   "file_extension": ".py",
   "mimetype": "text/x-python",
   "name": "python",
   "nbconvert_exporter": "python",
   "pygments_lexer": "ipython3",
   "version": "3.5.1"
  }
 },
 "nbformat": 4,
 "nbformat_minor": 0
}
