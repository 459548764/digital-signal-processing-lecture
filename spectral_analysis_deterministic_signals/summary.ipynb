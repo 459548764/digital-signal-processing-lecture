{
 "cells": [
  {
   "cell_type": "markdown",
   "metadata": {
    "nbsphinx": "hidden"
   },
   "source": [
    "# Spectral Analysis of Deterministic Signals\n",
    "\n",
    "*This jupyter notebook is part of a [collection of notebooks](../index.ipynb) on various topics of Digital Signal Processing. Please direct questions and suggestions to [Sascha.Spors@uni-rostock.de](mailto:Sascha.Spors@uni-rostock.de).*"
   ]
  },
  {
   "cell_type": "markdown",
   "metadata": {},
   "source": [
    "## Summary\n",
    "\n",
    "* The discrete Fourier transform (DFT) of a complex exponential signal with arbitrary frequency does not only consist of a contribution at this frequency. Except for the case that the frequency is a DFT eigenfrequency, additional contributions are inevitably present throughout the entire spectrum. The maximum of the magnitude spectrum (main lobe) is located approximately at the frequency of the exponential signal. The level of the additional contributions (side lobes) decay typically with increasing distance in frequency from the maximum. This effect is known as **leakage effect** or spectral leakage. The leakage effect is a consequence of considering only a finite number of samples in the DFT.\n",
    "\n",
    "* Windowing refers to weighting the samples before performing the DFT. The amount of spectral leakage can be controlled by the window function. The rectangular window (equal weighting of all samples) results in the narrowest main lobe of all possible windows. Other window functions show wider main lobes at the benefit of faster decaying side lobes. The choice of a particular window function is, amongst others, a trade-off between width of the main lobe and side lobe decay.\n",
    "\n",
    "* The leakage effect limits the spectral resolution of the DFT. The width of the main lobe of a particular window is linked to its capability to detect two exponential signals with comparable levels and similar frequencies, the decay of the side lobes to detect two exponential signals with disparate levels and dissimilar frequencies. The choice of a window function is a trade-off between high resolution and high dynamic range. It is in general application specific.\n",
    "\n",
    "* Zero-padding a signal before computing its DFT is equivalent to a bandlimited interpolation in the frequency domain.\n",
    "\n",
    "* For the short-time Fourier transform (STFT), a signal is split into short segments for which the DFT is subsequently computed. The magnitude of the STFT is known as spectrogram. In spectral analysis, the STFT provides insights into the temporal evolution of the spectral contents of a signal. It is of special interest for signals which change their spectral properties over time (non-stationary signals). The leakage effect applies to each subsequent DFT."
   ]
  },
  {
   "cell_type": "markdown",
   "metadata": {},
   "source": [
    "**Example**\n",
    "\n",
    "The following example shows the impact of two different window functions on the magnitude spectrum of a complex exponential signal. The red line indicates the frequency $\\Omega_0$ of the exponential signal. The leakage effect is clearly visible in both cases. However, the width of the main lobe and the decay of the side lobes is different for the different window functions."
   ]
  },
  {
   "cell_type": "code",
   "execution_count": 1,
   "metadata": {
    "scrolled": false
   },
   "outputs": [
    {
     "data": {
      "image/png": "[encoded data removed]",
      "text/plain": [
       "<matplotlib.figure.Figure at 0x10fa87978>"
      ]
     },
     "metadata": {},
     "output_type": "display_data"
    }
   ],
   "source": [
    "import numpy as np\n",
    "import matplotlib.pyplot as plt\n",
    "%matplotlib inline\n",
    "\n",
    "N = 32  # length of the DFT\n",
    "P = 10.3  # period of the exponential signal\n",
    "w1 = np.ones(N)  # first window function\n",
    "w2 = np.hanning(N)  # second window function\n",
    "\n",
    "\n",
    "def plot_spectrum(X, title):\n",
    "    plt.axvline(x=P, linewidth=2, color='r', alpha=.5)\n",
    "    plt.stem(mu, 20*np.log10(np.abs(X)), basefmt = ' ', bottom=-300)\n",
    "    plt.title(title)\n",
    "    plt.xlabel(r'$\\mu$')\n",
    "    plt.axis([0, N, -100, 40])\n",
    "    plt.grid()\n",
    "\n",
    "\n",
    "# generate signal\n",
    "k = np.arange(N)\n",
    "Om0 = P*(2*np.pi/N)  # frequency of exponential signal\n",
    "x = np.exp(1j*Om0*k)\n",
    "\n",
    "# DFTs of the windowed signals\n",
    "mu = np.arange(N)\n",
    "X1 = np.fft.fft(x * w1)\n",
    "X2 = np.fft.fft(x * w2)\n",
    "\n",
    "# plot spectra\n",
    "plt.figure(figsize = (10, 8))\n",
    "ax1 = plt.subplot(2, 2, 1)\n",
    "plot_spectrum(X1, 'rectangular window')\n",
    "plt.ylabel(r'$|X[\\mu]|$ in dB')\n",
    "ax2 = plt.subplot(2, 2, 2, sharey=ax1)\n",
    "plot_spectrum(X2, 'Hanning window')\n",
    "plt.setp(ax2.get_yticklabels(), visible=False)\n",
    "plt.tight_layout()"
   ]
  },
  {
   "cell_type": "markdown",
   "metadata": {
    "nbsphinx": "hidden"
   },
   "source": [
    "\n",
    "**Copyright**\n",
    "\n",
    "This notebook is provided as [Open Educational Resource](https://en.wikipedia.org/wiki/Open_educational_resources). Feel free to use the notebook for your own purposes. The text is licensed under [Creative Commons Attribution 4.0](https://creativecommons.org/licenses/by/4.0/), the code of the IPython examples under the [MIT license](https://opensource.org/licenses/MIT). Please attribute the work as follows: *Sascha Spors, Digital Signal Processing - Lecture notes featuring computational examples, 2016-2017*."
   ]
  }
 ],
 "metadata": {
  "anaconda-cloud": {},
  "kernelspec": {
   "display_name": "Python 3",
   "language": "python",
   "name": "python3"
  },
  "language_info": {
   "codemirror_mode": {
    "name": "ipython",
    "version": 3
   },
   "file_extension": ".py",
   "mimetype": "text/x-python",
   "name": "python",
   "nbconvert_exporter": "python",
   "pygments_lexer": "ipython3",
   "version": "3.5.2"
  }
 },
 "nbformat": 4,
 "nbformat_minor": 1
}
