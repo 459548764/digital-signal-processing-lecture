{
 "cells": [
  {
   "cell_type": "markdown",
   "metadata": {},
   "source": [
    "# Random Signals\n",
    "\n",
    "*This jupyter/Python notebook is part of a [collection of notebooks](../index.ipynb) in the masters module [Digital Signal Processing](http://www.int.uni-rostock.de/Digitale-Signalverarbeitung.48.0.html), Comunications Engineering, Universität Rostock. Please direct questions and suggestions to <mailto:Sascha.Spors@uni-rostock.de>.*"
   ]
  },
  {
   "cell_type": "markdown",
   "metadata": {},
   "source": [
    "## Auto-Correlation Function\n",
    "\n",
    "The [auto-correlation function](https://en.wikipedia.org/wiki/Autocorrelation) (ACF) characterizes the temporal dependencies of a random signal $x[k]$. It is an important measure for the analysis of signals in communications engineering, coding and system identification."
   ]
  },
  {
   "cell_type": "markdown",
   "metadata": {},
   "source": [
    "### Definition\n",
    "\n",
    "The ACF of a continuous-amplitude real-valued weakly stationary process $x[k]$ is given as\n",
    "\n",
    "$$\\varphi_{xx}[\\kappa] = E\\{x[k] \\cdot x[k-\\kappa] \\}$$\n",
    "\n",
    "where $\\kappa$ is commonly chosen as sample index instead of $k$ in order to indicate that it denotes a shift/lag. The ACF quantifies the similarity of a signal with a shifted version of itself. It has high values for high similarity and low values for low similarity.\n",
    "\n",
    "If the process is additionally weakly ergodic, the ACF can be computed by averaging along one sample function\n",
    "\n",
    "$$\\varphi_{xx}[\\kappa] = \\lim_{K \\to \\infty} \\frac{1}{2K + 1} \\sum_{k=-K}^{K} x[k] \\cdot x[k-\\kappa]$$\n",
    "\n",
    "Note that the normalization on the left of the sum is discarded in some definitions of the ACF. Above equation resembles strongly the discrete convolution. Rearranging under the assumption of a random signal of finite length $2 K + 1$ one gets\n",
    "\n",
    "$$\\varphi_{xx}[\\kappa - K] = \\frac{1}{K} \\sum_{k=0}^{K-1} x[k] \\cdot x[k-\\kappa] = \\frac{1}{K} \\; x[k] * x[-k]$$\n",
    "\n",
    "where this variant of the ACF is shifted by $K$ samples in comparison to its definition. For $\\kappa < 0$ and $\\kappa \\geq 2K$ the ACF $\\varphi_{xx}[\\kappa - K] = 0$. The ACF can be computed by (fast) convolution of the random signal with a time reversed version of the random signal."
   ]
  },
  {
   "cell_type": "markdown",
   "metadata": {},
   "source": [
    "### Properties\n",
    "\n",
    "The following properties of the ACF can be deduced from its definition\n",
    "\n",
    "1. The ACF $\\varphi_{xx}[\\kappa]$ has a maximum for $\\kappa = 0$. It is given as\n",
    "\n",
    "    $$ \\varphi_{xx}[0] = E\\{x^2[k]\\} = \\sigma_x^2 + \\mu_x^2 $$\n",
    "    \n",
    "    This is due to the fact that the signal is equal to itself for $\\kappa = 0$. Please note that for periodic random signals more than one maximum will be present.\n",
    "    \n",
    "2. The ACF is a function with even symmetry\n",
    "\n",
    "    $$ \\varphi_{xx}[\\kappa] = \\varphi_{xx}[-\\kappa] $$\n",
    "    \n",
    "3. For typical random signals, the ACF approaches the limiting value\n",
    "\n",
    "    $$ \\lim_{|\\kappa| \\to \\infty} \\varphi_{xx}[\\kappa] = \\mu_x^2$$\n",
    "    \n",
    "    The similarity of a typical random signal is often low for large lags $\\kappa$."
   ]
  },
  {
   "cell_type": "markdown",
   "metadata": {},
   "source": [
    "### Example\n",
    "\n",
    "The following example computes and plots the ACF for a speech signal."
   ]
  },
  {
   "cell_type": "code",
   "execution_count": 1,
   "metadata": {
    "collapsed": false
   },
   "outputs": [
    {
     "data": {
      "image/png": "[encoded data removed]",
      "text/plain": [
       "<matplotlib.figure.Figure at 0x10bf2ac50>"
      ]
     },
     "metadata": {},
     "output_type": "display_data"
    }
   ],
   "source": [
    "%matplotlib inline\n",
    "import numpy as np\n",
    "import matplotlib.pyplot as plt\n",
    "from scipy.io import wavfile\n",
    "\n",
    "K = 30  # limit for lags in ACF\n",
    "\n",
    "# read sound file \n",
    "fs, x = wavfile.read('../data/speech_8k.wav')\n",
    "x = np.asarray(x, dtype=float)\n",
    "\n",
    "# compute and truncate ACF\n",
    "acf = 1/len(x) * np.correlate(x, x, mode='full')\n",
    "acf = acf[len(x)-K-1:len(x)+K-1]\n",
    "kappa = np.arange(-K, K)\n",
    "\n",
    "# plot ACF\n",
    "plt.figure(figsize = (10, 8))\n",
    "plt.stem(kappa, acf)\n",
    "plt.title('Estimated auto-correlation function')\n",
    "plt.ylabel(r'$\\hat{\\varphi}_{xx}[\\kappa]$')\n",
    "plt.xlabel(r'$\\kappa$')\n",
    "plt.axis([-K, K, 1.1*min(acf), 1.1*max(acf)]);\n",
    "plt.grid()"
   ]
  },
  {
   "cell_type": "markdown",
   "metadata": {},
   "source": [
    "**Exercise**\n",
    "\n",
    "* Does the ACF fulfill the properties stated above?\n",
    "* The plot shows only a small part of the ACF. Increase the range `K` for $-K \\leq \\kappa < K$ and check if the last property is fulfilled for the speech signal."
   ]
  },
  {
   "cell_type": "markdown",
   "metadata": {},
   "source": [
    "## Auto-Covariance Function\n",
    "\n",
    "The [auto-covariance function](https://en.wikipedia.org/wiki/Covariance) is the ACF for the zero-mean random signal $x[k] - \\mu_x$. It is given as\n",
    "\n",
    "$$\\psi_{xx}[\\kappa] = \\varphi_{xx}[\\kappa] - \\mu_x^2 $$"
   ]
  },
  {
   "cell_type": "markdown",
   "metadata": {},
   "source": [
    "## Cross-Correlation Function\n",
    "\n",
    "The cross-correlation function (CCF) is a measure of similarity that two random signals $x[k]$ and $y[k - \\kappa]$ have with respect to the temporal shift $\\kappa \\in \\mathbb{Z}$."
   ]
  },
  {
   "cell_type": "markdown",
   "metadata": {},
   "source": [
    "### Definition\n",
    "\n",
    "The CCF of two continuous-amplitude real-valued weakly stationary processes $x[k]$ and $y[k]$ is given as\n",
    "\n",
    "$$\\varphi_{xy}[\\kappa] = E\\{x[k] \\cdot y[k - \\kappa] \\} = E\\{x[k + \\kappa] \\cdot y[k] \\}$$\n",
    "\n",
    "If $x[k]$ and $y[k]$ are weakly ergodic processes, the CCF can be computed by averaging along one sample function\n",
    "\n",
    "$$\\varphi_{xy}[\\kappa] = \\lim_{K \\to \\infty} \\frac{1}{2K + 1} \\sum_{k=-K}^{K} x[k] \\cdot y[k-\\kappa]$$\n",
    "\n",
    "As for the ACF, for two finite length random signals of length $2K + 1$ this can be expressed as discrete convolution\n",
    "\n",
    "$$\\varphi_{xy}[\\kappa - K] = \\frac{1}{K} \\sum_{k=0}^{K-1} x[k] \\cdot y[k-\\kappa] = \\frac{1}{K} \\; x[k] * y[-k]$$\n",
    "\n",
    "where this variant of the CCF is shifted by $K$ samples in comparison to its definition. For $\\kappa < 0$ and $\\kappa \\geq 2K$ the CCF $\\varphi_{xy}[\\kappa - K] = 0$. The CCF can be computed by (fast) convolution of one random signal with a time reversed version of the other random signal."
   ]
  },
  {
   "cell_type": "markdown",
   "metadata": {},
   "source": [
    "### Properties\n",
    "\n",
    "1. For an exchange of the two random signals, the CCF exhibits the following symmetry\n",
    "\n",
    "    $$\\varphi_{xy}[\\kappa] = \\varphi_{yx}[-\\kappa]$$\n",
    "    \n",
    "2. The CCF is constant for [*uncorrelated*](https://en.wikipedia.org/wiki/Uncorrelated_random_variables) random signals\n",
    "\n",
    "    $$ \\varphi_{xy}[\\kappa] = \\mu_x \\cdot \\mu_y $$\n",
    "    \n",
    "    Typical random processes are uncorrelated for $|\\kappa| \\to \\infty$.\n"
   ]
  },
  {
   "cell_type": "markdown",
   "metadata": {},
   "source": [
    "### Example\n",
    "\n",
    "The following example computes the CCF for two uncorrelated random signals"
   ]
  },
  {
   "cell_type": "code",
   "execution_count": 2,
   "metadata": {
    "collapsed": false
   },
   "outputs": [
    {
     "name": "stdout",
     "output_type": "stream",
     "text": [
      "Mean of signal x[k]: 2.044971\n",
      "Mean of signal y[k]: 1.000469\n"
     ]
    },
    {
     "data": {
      "image/png": "[encoded data removed]",
      "text/plain": [
       "<matplotlib.figure.Figure at 0x10f2b9a20>"
      ]
     },
     "metadata": {},
     "output_type": "display_data"
    }
   ],
   "source": [
    "K = 1024  # length of random signals\n",
    "\n",
    "# generate two uncorrelated random signals\n",
    "x = 2+np.random.normal(size=K)\n",
    "y = 1+np.random.normal(size=2*K)\n",
    "\n",
    "# compute CCF\n",
    "ccf = 1/len(x) * np.correlate(x, y, mode='valid')\n",
    "kappa = np.arange(-K//2, K//2+1)\n",
    "\n",
    "# print mean values of signals\n",
    "print('Mean of signal x[k]: %f' %np.mean(x))\n",
    "print('Mean of signal y[k]: %f' %np.mean(y))\n",
    "\n",
    "# plot CCF\n",
    "plt.figure(figsize = (10, 8))\n",
    "plt.stem(kappa, ccf)\n",
    "plt.title('Cross-correlation function')\n",
    "plt.ylabel(r'$\\varphi_{xy}[\\kappa]$')\n",
    "plt.xlabel(r'$\\kappa$')\n",
    "plt.axis([-K//2, K//2, 0, 1.1*max(ccf)]);\n",
    "plt.grid()"
   ]
  },
  {
   "cell_type": "markdown",
   "metadata": {},
   "source": [
    "**Exercise**\n",
    "\n",
    "* Do you have an explanation for the values of the CCF? What would be its theoretic value? "
   ]
  },
  {
   "cell_type": "markdown",
   "metadata": {},
   "source": [
    "## Cross-Covariance Function\n",
    "\n",
    "The [cross-covariance function](https://en.wikipedia.org/wiki/Covariance) is the CCF for the zero-mean random signals $x[k] - \\mu_x$ and $y[k] - \\mu_y$. It is given as\n",
    "\n",
    "$$\\psi_{xy}[\\kappa] = \\varphi_{xy}[\\kappa] - \\mu_x \\mu_y $$"
   ]
  },
  {
   "cell_type": "markdown",
   "metadata": {},
   "source": [
    "**Exercise**\n",
    "\n",
    "* How would the plot for $\\psi_{xy}[\\kappa]$ look like for above example?"
   ]
  },
  {
   "cell_type": "markdown",
   "metadata": {},
   "source": [
    "**Copyright**\n",
    "\n",
    "<p xmlns:dct=\"http://purl.org/dc/terms/\">\n",
    "  <a rel=\"license\"\n",
    "     href=\"http://creativecommons.org/publicdomain/zero/1.0/\">\n",
    "    <img src=\"http://i.creativecommons.org/p/zero/1.0/88x31.png\" style=\"border-style: none;\" alt=\"CC0\" />\n",
    "  </a>\n",
    "  <br />\n",
    "  To the extent possible under law,\n",
    "  <span rel=\"dct:publisher\" resource=\"[_:publisher]\">the person who associated CC0</span>\n",
    "  with this work has waived all copyright and related or neighboring\n",
    "  rights to this work.\n",
    "</p>"
   ]
  }
 ],
 "metadata": {
  "kernelspec": {
   "display_name": "Python 3",
   "language": "python",
   "name": "python3"
  },
  "language_info": {
   "codemirror_mode": {
    "name": "ipython",
    "version": 3
   },
   "file_extension": ".py",
   "mimetype": "text/x-python",
   "name": "python",
   "nbconvert_exporter": "python",
   "pygments_lexer": "ipython3",
   "version": "3.5.0"
  }
 },
 "nbformat": 4,
 "nbformat_minor": 0
}
