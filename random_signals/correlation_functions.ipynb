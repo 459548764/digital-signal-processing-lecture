{
 "cells": [
  {
   "cell_type": "markdown",
   "metadata": {
    "nbsphinx": "hidden"
   },
   "source": [
    "# Random Signals\n",
    "\n",
    "*This jupyter notebook is part of a [collection of notebooks](../index.ipynb) on various topics of Digital Signal Processing. Please direct questions and suggestions to [Sascha.Spors@uni-rostock.de](mailto:Sascha.Spors@uni-rostock.de).*"
   ]
  },
  {
   "cell_type": "markdown",
   "metadata": {},
   "source": [
    "## Auto-Correlation Function\n",
    "\n",
    "[Correlation](https://en.wikipedia.org/wiki/Correlation_and_dependence) is a statistical measure for the dependencies between random processes or between the samples of one random process. The [auto-correlation function](https://en.wikipedia.org/wiki/Autocorrelation) (ACF) characterizes the temporal dependencies within one random signal $x[k]$. It is an important measure for the analysis of signals in communications engineering, source coding and system identification."
   ]
  },
  {
   "cell_type": "markdown",
   "metadata": {},
   "source": [
    "### Definition\n",
    "\n",
    "For a continuous-amplitude real-valued random signal $x[k]$ the ACF is defined by the [second-order ensemble avarage](ensemble_averages.ipynb#Second-Order-Ensemble-Averages) of the signal at two different time-instants $k_1$ and $k_2$\n",
    "\n",
    "\\begin{equation}\n",
    "\\varphi_{xx}[k_1, k_2] = E\\{ x[k_1] \\cdot x[k_2] \\}\n",
    "\\end{equation}\n",
    "\n",
    "Under the assumption of [wide-sense stationarity](stationary_ergodic.ipynb#Wide-Sense-Stationary-Random-Processes) (WSS) the ACF does only depend on the difference $\\kappa = k_1 - k_2$ between the considered sample indexes\n",
    "\n",
    "\\begin{equation}\n",
    "\\varphi_{xx}[\\kappa] = E\\{x[k] \\cdot x[k-\\kappa] \\}\n",
    "\\end{equation}\n",
    "\n",
    "where $\\kappa$ is commonly chosen as sample index instead of $k$ in order to indicate that it denotes a shift/lag. The ACF quantifies the similarity of a signal with a shifted version of itself. It has high values for high similarity and low values for low similarity.\n",
    "\n",
    "If the process is additionally [wide-sense ergodic](stationary_ergodic.ipynb#Wide-Sense-Ergodic-Random-Processes), the ACF can be computed by averaging along one sample function\n",
    "\n",
    "\\begin{equation}\n",
    "\\varphi_{xx}[\\kappa] = \\lim_{K \\to \\infty} \\frac{1}{2K + 1} \\sum_{k=-K}^{K} x[k] \\cdot x[k-\\kappa]\n",
    "\\end{equation}\n",
    "\n",
    "Note that the normalization on the left side of the sum is discarded in some definitions of the ACF. Above summation resembles strongly the definition of the [discrete convolution](https://en.wikipedia.org/wiki/Convolution#Discrete_convolution). For a random signal $x_N[k] = \\text{rect}_N[k] \\cdot x[k]$ of finite length $N$ and by exploiting the properties of a wide-sense ergodic random process one yields\n",
    "\n",
    "\\begin{equation}\n",
    "\\varphi_{xx}[\\kappa] = \\frac{1}{N} \\sum_{k=0}^{N-1} x_N[k] \\cdot x_N[k-\\kappa] = \\frac{1}{N} \\; x_N[k] * x_N[-k]\n",
    "\\end{equation}\n",
    "\n",
    "where the ACF $\\varphi_{xx}[\\kappa] = 0$ for $|\\kappa| > N-1$. Hence, the ACF can be computed by (fast) convolution of the random signal with a time reversed version of itself. \n",
    "\n",
    "Note in numerical implementations (e.g. MATLAB, Python), the computed ACF is stored in a vector of length $2 N - 1$. The positive indexes $0, 1, \\dots, 2 N - 1$ of this vector cannot be directly interpreted as $\\kappa$. The indexes of the vector have to be shifted by $N-1$ for a proper interpretation."
   ]
  },
  {
   "cell_type": "markdown",
   "metadata": {},
   "source": [
    "### Properties\n",
    "\n",
    "The following properties of the ACF can be deduced from its definition\n",
    "\n",
    "1. The ACF $\\varphi_{xx}[\\kappa]$ has a maximum for $\\kappa = 0$. It is given as\n",
    "    \n",
    "    $$ \\varphi_{xx}[0] = E\\{x^2[k]\\} = \\sigma_x^2 + \\mu_x^2 $$\n",
    "    \n",
    "    This is due to the fact that the signal is equal to itself for $\\kappa = 0$. Please note that for periodic random signals more than one maximum will be present.\n",
    "    \n",
    "2. The ACF is a function with even symmetry\n",
    "    \n",
    "    $$ \\varphi_{xx}[\\kappa] = \\varphi_{xx}[-\\kappa] $$\n",
    "    \n",
    "3. For typical random signals, the ACF approaches the limiting value\n",
    "    \n",
    "    $$ \\lim_{|\\kappa| \\to \\infty} \\varphi_{xx}[\\kappa] = \\mu_x^2 $$\n",
    "    \n",
    "    The similarity of a typical random signal is often low for large lags $\\kappa$.\n",
    "\n",
    "A signal $x[k]$ is termed as *uncorrelated* if\n",
    "\n",
    "\\begin{equation}\n",
    "\\varphi_{xx}[\\kappa] = (\\sigma_x^2 + \\mu_x^2) \\cdot \\delta[\\kappa]\n",
    "\\end{equation}\n",
    "\n",
    "and as correlated if this condition is not met. The samples of a signal which is uncorrelated show no dependencies between each other in a statistical sense."
   ]
  },
  {
   "cell_type": "markdown",
   "metadata": {},
   "source": [
    "### Example\n",
    "\n",
    "The following example estimates and plots the ACF of a short recorded speech signal."
   ]
  },
  {
   "cell_type": "code",
   "execution_count": 1,
   "metadata": {
    "collapsed": false
   },
   "outputs": [
    {
     "data": {
      "image/png": "[encoded data removed]",
      "text/plain": [
       "<matplotlib.figure.Figure at 0x105248eb8>"
      ]
     },
     "metadata": {},
     "output_type": "display_data"
    }
   ],
   "source": [
    "%matplotlib inline\n",
    "import numpy as np\n",
    "import matplotlib.pyplot as plt\n",
    "from scipy.io import wavfile\n",
    "\n",
    "K = 30  # upper/lower limit for lag in ACF\n",
    "\n",
    "# read audio file \n",
    "fs, x = wavfile.read('../data/speech_8k.wav')\n",
    "x = np.asarray(x, dtype=float)/2**15\n",
    "\n",
    "# compute and truncate ACF\n",
    "acf = 1/len(x) * np.correlate(x, x, mode='full')\n",
    "acf = acf[(len(x)-1)-(K-1):(len(x)-1)+K]\n",
    "kappa = np.arange(-(K-1), K)\n",
    "\n",
    "# plot ACF\n",
    "fig = plt.figure(figsize = (10, 8))\n",
    "\n",
    "plt.stem(kappa, acf)\n",
    "plt.xlabel(r'$\\kappa$')\n",
    "plt.ylabel(r'$\\hat{\\varphi}_{xx}[\\kappa]$')\n",
    "plt.axis([-K, K, 1.1*min(acf), 1.1*max(acf)]);\n",
    "plt.grid()"
   ]
  },
  {
   "cell_type": "markdown",
   "metadata": {},
   "source": [
    "**Exercise**\n",
    "\n",
    "* Does the ACF fulfill the properties stated above?\n",
    "* The plot shows only a small part of the ACF. Increase the range `K` for $-K \\leq \\kappa < K$ and check if the last property is fulfilled for the speech signal.\n",
    "* Is the speech signal uncorrelated or correlated?\n",
    "\n",
    "It can be observed that the plotted ACF has its maximum value at $\\kappa = 0$ and that it shows an even symmetry. The third property can be confirmed by increasing `K` in above example. The speech signal is correlated since $\\varphi_{xx}[\\kappa] \\neq 0$ for $\\kappa \\neq 0$."
   ]
  },
  {
   "cell_type": "markdown",
   "metadata": {},
   "source": [
    "## Auto-Covariance Function\n",
    "\n",
    "The [auto-covariance function](https://en.wikipedia.org/wiki/Covariance) is defined as the ACF of a zero-mean random signal. For a random signal $x[k]$ with linear mean $\\mu_x \\neq 0$ it is given as\n",
    "\n",
    "\\begin{equation}\n",
    "\\psi_{xx}[\\kappa] = \\varphi_{xx}[\\kappa] - \\mu_x^2\n",
    "\\end{equation}"
   ]
  },
  {
   "cell_type": "markdown",
   "metadata": {},
   "source": [
    "## Cross-Correlation Function\n",
    "\n",
    "The cross-correlation function (CCF) is a measure of similarity that two random signals $x[k]$ and $y[k]$ show in a statistical sense."
   ]
  },
  {
   "cell_type": "markdown",
   "metadata": {},
   "source": [
    "### Definition\n",
    "\n",
    "For a continuous-amplitude real-valued random signal $x[k]$ the CCF is defined by the [second-order ensemble avarage](ensemble_averages.ipynb#Second-Order-Ensemble-Averages) of the two signals $x[k]$ and $y[k]$ at two different time-instants $k_x$ and $k_y$\n",
    "\n",
    "\\begin{equation}\n",
    "\\varphi_{xy}[k_x, k_y] = E\\{ x[k_x] \\cdot y[k_y] \\}\n",
    "\\end{equation}\n",
    "\n",
    "Under the assumption of [wide-sense stationarity](stationary_ergodic.ipynb#Wide-Sense-Stationary-Random-Processes) (WSS) the CCF does only depend on the difference $\\kappa = k_x - k_y$ between the considered sample indexes\n",
    "\n",
    "\\begin{equation}\n",
    "\\varphi_{xy}[\\kappa] = E\\{x[k] \\cdot y[k - \\kappa] \\} = E\\{x[k + \\kappa] \\cdot y[k] \\}\n",
    "\\end{equation}\n",
    "\n",
    "The cross-correlation function (CCF) is a measure of similarity that two random signals $x[k]$ and $y[k - \\kappa]$ have with respect to the shift $\\kappa \\in \\mathbb{Z}$. If $x[k]$ and $y[k]$ are wide-sense ergodic processes, the CCF can be computed by averaging along one sample function\n",
    "\n",
    "\\begin{equation}\n",
    "\\varphi_{xy}[\\kappa] = \\lim_{K \\to \\infty} \\frac{1}{2K + 1} \\sum_{k=-K}^{K} x[k] \\cdot y[k-\\kappa]\n",
    "\\end{equation}\n",
    "\n",
    "For random signals $x_N[k] = \\text{rect}_N[k] \\cdot x[k]$ and $y_M[k] = \\text{rect}_M[k] \\cdot y[k]$ of finite lengths $N$ and $M$ one yields\n",
    "\n",
    "\\begin{equation}\n",
    "\\varphi_{xy}[\\kappa] = \\frac{1}{N} \\sum_{k=0}^{N-1} x_N[k] \\cdot y_M[k-\\kappa] = \\frac{1}{N} \\; x_N[k] * y_M[-k]\n",
    "\\end{equation}\n",
    "\n",
    "where the CCF $\\varphi_{xy}[\\kappa] = 0$ for $\\kappa < -(M-1)$ and $\\kappa > N-1$. The CCF can be computed by (fast) convolution of one random signal with a time reversed version of the other random signal. Note in numerical implementations (e.g. MATLAB, Python), the computed CCF is stored in a vector of length $N + M - 1$. The positive indexes $0, 1, \\dots, N + M - 1$ of this vector cannot be directly interpreted as $\\kappa$. The indexes of the vector have to be shifted by $M-1$ for a proper interpretation.\n",
    "\n",
    "Above results hold also for the CCF $\\varphi_{yx}[\\kappa]$ when exchanging $x[k]$ with $y[k]$ and $N$ with $M$."
   ]
  },
  {
   "cell_type": "markdown",
   "metadata": {},
   "source": [
    "### Properties\n",
    "\n",
    "1. The CCF exhibits the following symmetry when exchanging the two random signals\n",
    "\n",
    "    $$ \\varphi_{xy}[\\kappa] = \\varphi_{yx}[-\\kappa] $$\n",
    "    \n",
    "2. The CCF is constant for [*uncorrelated*](https://en.wikipedia.org/wiki/Uncorrelated_random_variables) random signals\n",
    "\n",
    "    $$ \\varphi_{xy}[\\kappa] = \\mu_x \\cdot \\mu_y $$\n",
    "    \n",
    "3. Typical random processes are uncorrelated for $|\\kappa| \\to \\infty$\n",
    "\n",
    "    $$ \\lim_{|\\kappa| \\to \\infty} \\varphi_{xy}[\\kappa] = \\mu_x \\cdot \\mu_y$$"
   ]
  },
  {
   "cell_type": "markdown",
   "metadata": {},
   "source": [
    "### Example\n",
    "\n",
    "The following example estimates and plots the CCF of two random signals $x[k]$ and $y[k]$ of finite lengths $N$ and $M = 2 N$."
   ]
  },
  {
   "cell_type": "code",
   "execution_count": 2,
   "metadata": {
    "collapsed": false
   },
   "outputs": [
    {
     "name": "stdout",
     "output_type": "stream",
     "text": [
      "Mean of signal x[k]: 1.954480\n",
      "Mean of signal y[k]: 1.000330\n"
     ]
    },
    {
     "data": {
      "image/png": "[encoded data removed]",
      "text/plain": [
       "<matplotlib.figure.Figure at 0x108023eb8>"
      ]
     },
     "metadata": {},
     "output_type": "display_data"
    }
   ],
   "source": [
    "N = 1024  # length of random signals\n",
    "\n",
    "# generate two uncorrelated random signals\n",
    "np.random.seed(2)\n",
    "x = 2 + np.random.normal(size=N)\n",
    "y = 1 + np.random.normal(size=2*N)\n",
    "\n",
    "# compute CCF\n",
    "ccf = 1/len(x) * np.correlate(x, y, mode='full')\n",
    "kappa = np.arange(-(N-1), 2*N)\n",
    "\n",
    "# print mean values of signals\n",
    "print('Mean of signal x[k]: %f' %np.mean(x))\n",
    "print('Mean of signal y[k]: %f' %np.mean(y))\n",
    "\n",
    "# plot CCF\n",
    "plt.figure(figsize = (10, 8))\n",
    "plt.stem(kappa, ccf)\n",
    "plt.title('Estimated cross-correlation function')\n",
    "plt.ylabel(r'$\\hat{\\varphi}_{xy}[\\kappa]$')\n",
    "plt.xlabel(r'$\\kappa$')\n",
    "plt.axis([kappa[0], kappa[-1], 0, 1.1*max(ccf)]);\n",
    "plt.grid()"
   ]
  },
  {
   "cell_type": "markdown",
   "metadata": {},
   "source": [
    "**Exercise**\n",
    "\n",
    "* Can the signals be assumed to be correlated or uncorrelated when considering the CCF in the range $0 < \\kappa < N$ only?\n",
    "* Why does the CCF of two finite length signals have this overall trapezoid like shape? \n",
    "* What would be its theoretic value for signals of infinte length?\n",
    "\n",
    "The CCF is approximately constant for $0 < \\kappa < N$. Consequently, the random signals $x[k]$ and $y[k]$ can be assumed to be uncorrelated. The trapezoidal shape of the CCF results from the truncation of the random signals to a finite number of samples. This truncation can be modeled as a multiplication of the infinite length signals by a rectangular signal $\\text{rect}_N[k]$ and $\\text{rect}_M[k]$, respectively. Interpreting the CCF as convolution and having in mind that the convolution of two rectangular signals results in a signal of trapezoidal shape explains the shape of the CCF shown above. Its theoretic value is constant with a value given by the multiplication of the two linear means of the random signals $\\varphi_{xy}[\\kappa] = \\mu_x \\cdot \\mu_y$."
   ]
  },
  {
   "cell_type": "markdown",
   "metadata": {},
   "source": [
    "## Cross-Covariance Function\n",
    "\n",
    "The [cross-covariance function](https://en.wikipedia.org/wiki/Covariance) is defined as the CCF of two zero-mean random signals. For two random signals $x[k]$ and $y[k]$ with linear means $\\mu_x \\neq 0$ and $\\mu_y \\neq 0$ it is given as\n",
    "\n",
    "\\begin{equation}\n",
    "\\psi_{xy}[\\kappa] = \\varphi_{xy}[\\kappa] - \\mu_x \\mu_y\n",
    "\\end{equation}"
   ]
  },
  {
   "cell_type": "markdown",
   "metadata": {},
   "source": [
    "**Exercise**\n",
    "\n",
    "* What would the plot for $\\psi_{xy}[\\kappa]$ look like for above example under the assumption of signals of infinite length?"
   ]
  },
  {
   "cell_type": "markdown",
   "metadata": {
    "nbsphinx": "hidden"
   },
   "source": [
    "**Copyright**\n",
    "\n",
    "This notebook is provided as [Open Educational Resource](https://en.wikipedia.org/wiki/Open_educational_resources). Feel free to use the notebook for your own purposes. The text is licensed under [Creative Commons Attribution 4.0](https://creativecommons.org/licenses/by/4.0/), the code of the IPython examples under the [MIT license](https://opensource.org/licenses/MIT). Please attribute the work as follows: *Sascha Spors, Digital Signal Processing - Lecture notes featuring computational examples, 2016*."
   ]
  }
 ],
 "metadata": {
  "kernelspec": {
   "display_name": "Python 3",
   "language": "python",
   "name": "python3"
  },
  "language_info": {
   "codemirror_mode": {
    "name": "ipython",
    "version": 3
   },
   "file_extension": ".py",
   "mimetype": "text/x-python",
   "name": "python",
   "nbconvert_exporter": "python",
   "pygments_lexer": "ipython3",
   "version": "3.5.1"
  }
 },
 "nbformat": 4,
 "nbformat_minor": 0
}
