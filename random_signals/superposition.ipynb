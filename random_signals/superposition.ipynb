{
 "cells": [
  {
   "cell_type": "markdown",
   "metadata": {
    "nbsphinx": "hidden"
   },
   "source": [
    "# Random Signals\n",
    "\n",
    "*This jupyter notebook is part of a [collection of notebooks](../index.ipynb) on various topics of Digital Signal Processing. Please direct questions and suggestions to [Sascha.Spors@uni-rostock.de](mailto:Sascha.Spors@uni-rostock.de).*"
   ]
  },
  {
   "cell_type": "markdown",
   "metadata": {},
   "source": [
    "## Superposition of Random Signals\n",
    "\n",
    "The superposition of two random signals \n",
    "\n",
    "\\begin{equation}\n",
    "y[k] = x[k] + n[k]\n",
    "\\end{equation}\n",
    "\n",
    "is a frequently applied operation in statistical signal processing. For instance, to model a measurement procedure or communication channel as superposition of the desired signal with noise. We assume that the statistical properties of the real-valued signals $x[k]$ and $n[k]$ are known. We are interested in the statistical properties of $y[k]$, as well as the joint statistical properties between the signals and their superposition $y[k]$. It is assumed for the following that $x[k]$ and $n[k]$ are drawn from wide-sense stationary (WSS) real-valued random processes."
   ]
  },
  {
   "cell_type": "markdown",
   "metadata": {},
   "source": [
    "### Cumulative Distribution and Probability Density Function\n",
    "\n",
    "The cumulative distribution function (CDF) $P_y(\\theta)$ of $y[k]$ is given by rewriting it in terms of the joint probability density function (PDF) $p_{xn}(\\theta_x, \\theta_n)$\n",
    "\n",
    "\\begin{equation}\n",
    "P_y(\\theta) = \\Pr \\{ y[k] \\leq \\theta \\} = \\Pr \\{ (x[k] + n[k]) \\leq \\theta \\} =\n",
    "\\int\\limits_{-\\infty}^{\\infty} \\int\\limits_{-\\infty}^{\\theta - \\theta_n} p_{xn}(\\theta_x, \\theta_n) \\; \\mathrm{d}\\theta_x\\,\\mathrm{d}\\theta_n\n",
    "\\end{equation}\n",
    "\n",
    "Its PDF is computed by introducing above result into the [definition](distributions.ipynb#Univariate-Probability-Density-Function) of the PDF\n",
    "\n",
    "\\begin{equation}\n",
    "p_y(\\theta) = \\frac{\\mathrm{d} P_y(\\theta)}{\\mathrm{d}\\theta} = \\int\\limits_{-\\infty}^{\\infty} p_{xn}(\\theta - \\theta_n, \\theta_n) \\; \\mathrm{d}\\theta_n\n",
    "\\end{equation}\n",
    "\n",
    "since the inner integral on the right hand side of $P_y(\\theta)$ can be interpreted as the inverse operation to the derivation with respect to $\\theta$.\n",
    "\n",
    "An important special case is that $x[k]$ and $n[k]$ are uncorrelated. Under this assumption, the joint PDF $p_{xn}(\\theta_x, \\theta_n)$ can be written as $p_{xn}(\\theta_x, \\theta_n) = p_x(\\theta_x) \\cdot p_n(\\theta_n)$. Introducing this into above result yields\n",
    "\n",
    "\\begin{align}\n",
    "p_y(\\theta) &= \\int\\limits_{-\\infty}^{\\infty} p_x(\\theta - \\theta_n) \\cdot p_n(\\theta_n) \\; \\mathrm{d}\\theta_n \\\\\n",
    "&= p_x(\\theta) * p_n(\\theta)\n",
    "\\end{align}\n",
    "\n",
    "Hence, the PDF of the superposition of two uncorrelated signals is given by the convolution of the PDFs of both signals."
   ]
  },
  {
   "cell_type": "markdown",
   "metadata": {},
   "source": [
    "#### Example\n",
    "\n",
    "The following example estimates the PDF of a superposition of two uncorrelated signals drawn from random processes generating samples according to the [uniformly distributed](important_distributions.ipynb#Uniform-Distribution) white noise model with $a=0$ and $b=1$."
   ]
  },
  {
   "cell_type": "code",
   "execution_count": 1,
   "metadata": {
    "collapsed": false
   },
   "outputs": [
    {
     "data": {
      "image/png": "[encoded data removed]",
      "text/plain": [
       "<matplotlib.figure.Figure at 0x10fe0ad68>"
      ]
     },
     "metadata": {},
     "output_type": "display_data"
    }
   ],
   "source": [
    "%matplotlib inline\n",
    "import numpy as np\n",
    "import matplotlib.pyplot as plt\n",
    "\n",
    "N = 10000  # length of random signals\n",
    "\n",
    "# generate random signals\n",
    "np.random.seed(2)\n",
    "x = np.random.uniform(size=N)\n",
    "n = np.random.uniform(size=N)\n",
    "y = x + n\n",
    "\n",
    "# plot estimated pdf\n",
    "plt.figure(figsize = (10, 6))\n",
    "plt.hist(y, 50, normed=True)\n",
    "plt.title('Estimated PDF')\n",
    "plt.xlabel(r'$\\theta$')\n",
    "plt.ylabel(r'$\\hat{p}_y(\\theta)$');"
   ]
  },
  {
   "cell_type": "markdown",
   "metadata": {},
   "source": [
    "**Exercise**\n",
    "\n",
    "* Check the result of the numerical simulation by calculating the theoretical PDF of $y[k]$\n",
    "\n",
    "The PDF of both signals $x[k]$ and $n[k]$ is given as $p_x(\\theta) = p_n(\\theta) = \\text{rect}(\\theta - \\frac{1}{2})$, according to the assumptions stated above. The PDF of $y[k] = x[k] + n[k]$ is consequently given by $p_y(\\theta) = \\text{rect}(\\theta - \\frac{1}{2}) * \\text{rect}(\\theta - \\frac{1}{2})$. The convolution of two rectangular signals results in a triangular signal. Hence\n",
    "\n",
    "\\begin{equation}\n",
    "p_y(\\theta) = \n",
    "\\begin{cases}\n",
    "1 - |\\theta -1| & \\text{for } 0 < \\theta < 2 \\\\\n",
    "0 & \\text{otherwise}\n",
    "\\end{cases}\n",
    "\\end{equation}"
   ]
  },
  {
   "cell_type": "markdown",
   "metadata": {},
   "source": [
    "### Linear Mean\n",
    "\n",
    "The linear mean $\\mu_y$ of the superposition is derived by introducing $y[k] = x[k] + n[k]$ into the [definition of the linear mean](ensemble_averages.ipynb#Linear-mean) and exploiting the [linearity of the expectation operator](ensemble_averages.ipynb#Properties) as\n",
    "\n",
    "\\begin{equation}\n",
    "\\mu_y[k] = E \\{ x[k] + n[k] \\} = \\mu_x[k] + \\mu_n[k]\n",
    "\\end{equation}\n",
    "\n",
    "The linear mean of the superposition of two random signals is the superposition of its linear means."
   ]
  },
  {
   "cell_type": "markdown",
   "metadata": {},
   "source": [
    "### Auto-Correlation Function and Power Spectral Density\n",
    "\n",
    "The ACF is computed in the same manner as the linear mean by inserting the superposition into the [definition](correlation_functions.ipynb#Auto-Correlation-Function) of the ACF and rearranging terms\n",
    "\n",
    "\\begin{align}\n",
    "\\varphi_{yy}[\\kappa] &= E\\{ y[k] \\cdot y[k-\\kappa] \\} \\\\\n",
    "&= E\\{ (x[k] + n[k]) \\cdot (x[k-\\kappa] + n[k-\\kappa]) \\} \\\\\n",
    "&= \\varphi_{xx}[\\kappa] + \\varphi_{xn}[\\kappa] + \\varphi_{nx}[\\kappa] + \\varphi_{nn}[\\kappa] \n",
    "\\end{align}\n",
    "\n",
    "The ACF of the superposition of two random signals is given as the superposition of all auto- and cross-correlation functions (CCFs) of the two random signals. The power spectral density (PSD) is derived by performing a discrete-time Fourier transform (DTFT) of the ACF\n",
    "\n",
    "\\begin{equation}\n",
    "\\Phi_{yy}(\\mathrm{e}^{\\,\\mathrm{j}\\,\\Omega}) = \\Phi_{xx}(\\mathrm{e}^{\\,\\mathrm{j}\\,\\Omega}) + \\Phi_{xn}(\\mathrm{e}^{\\,\\mathrm{j}\\,\\Omega}) + \\Phi_{nx}(\\mathrm{e}^{\\,\\mathrm{j}\\,\\Omega}) + \\Phi_{nn}(\\mathrm{e}^{\\,\\mathrm{j}\\,\\Omega})\n",
    "\\end{equation}\n",
    "\n",
    "This can be simplified further by exploiting the symmetry property of the CCFs $\\varphi_{xn}[\\kappa] = \\varphi_{nx}[-\\kappa]$ and the DTFT for real-valued signals as\n",
    "\n",
    "\\begin{equation}\n",
    "\\Phi_{yy}(\\mathrm{e}^{\\,\\mathrm{j}\\,\\Omega}) = \\Phi_{xx}(\\mathrm{e}^{\\,\\mathrm{j}\\,\\Omega}) + 2\\,\\Re \\{ \\Phi_{xn}(\\mathrm{e}^{\\,\\mathrm{j}\\,\\Omega}) \\} + \\Phi_{nn}(\\mathrm{e}^{\\,\\mathrm{j}\\,\\Omega})\n",
    "\\end{equation}\n",
    "\n",
    "where $\\Re \\{ \\cdot \\}$ denotes the real part of its argument."
   ]
  },
  {
   "cell_type": "markdown",
   "metadata": {},
   "source": [
    "### Cross-Correlation Function and Cross Power Spectral Density\n",
    "\n",
    "The CCF $\\varphi_{ny}[\\kappa]$ between the random signal $n[k]$ and the superposition $y[k]$ is derived again by introducing the superposition into the [definition of the CCF](correlation_functions.ipynb#Cross-Correlation-Function)\n",
    "\n",
    "\\begin{equation}\n",
    "\\varphi_{ny}[\\kappa] = E\\{ n[k] \\cdot (x[k-\\kappa] + n[k-\\kappa]) \\} = \\varphi_{nx}[\\kappa] + \\varphi_{nn}[\\kappa]\n",
    "\\end{equation}\n",
    "\n",
    "It is given as the superposition of the CCF between the two random signals and the ACF of $n[k]$. The cross PSD is derived by applying the DTFT to $\\varphi_{ny}[\\kappa]$\n",
    "\n",
    "\\begin{equation}\n",
    "\\Phi_{ny}(\\mathrm{e}^{\\,\\mathrm{j}\\,\\Omega}) = \\Phi_{nx}(\\mathrm{e}^{\\,\\mathrm{j}\\,\\Omega}) + \\Phi_{nn}(\\mathrm{e}^{\\,\\mathrm{j}\\,\\Omega})\n",
    "\\end{equation}\n",
    "\n",
    "The CCF $\\varphi_{xy}[\\kappa]$ and cross PSD $\\Phi_{xy}(\\mathrm{e}^{\\,\\mathrm{j}\\,\\Omega})$ can be derived by exchanging the signals $n[k]$ and $x[k]$\n",
    "\n",
    "\\begin{equation}\n",
    "\\varphi_{xy}[\\kappa] = E\\{ x[k] \\cdot (x[k-\\kappa] + n[k-\\kappa]) \\} = \\varphi_{xx}[\\kappa] + \\varphi_{xn}[\\kappa]\n",
    "\\end{equation}\n",
    "\n",
    "and\n",
    "\n",
    "\\begin{equation}\n",
    "\\Phi_{xy}(\\mathrm{e}^{\\,\\mathrm{j}\\,\\Omega}) = \\Phi_{xx}(\\mathrm{e}^{\\,\\mathrm{j}\\,\\Omega}) + \\Phi_{xn}(\\mathrm{e}^{\\,\\mathrm{j}\\,\\Omega})\n",
    "\\end{equation}"
   ]
  },
  {
   "cell_type": "markdown",
   "metadata": {},
   "source": [
    "### Additive White Gaussian Noise\n",
    "\n",
    "In order to model the effect of distortions, it is often assumed that a random signal $x[k]$ is distorted by additive normal distributed white noise $n[k]$ resulting in the observed signal $y[k] = x[k] + n[k]$. It is furthermore assumed that the noise $n[k]$ is uncorrelated to the signal $x[k]$. This model is known as [additive white Gaussian noise](https://en.wikipedia.org/wiki/Additive_white_Gaussian_noise) (AWGN) model. \n",
    "\n",
    "For zero-mean random processes and from the properties of the AWGN model, it follows that $\\varphi_{xn}[\\kappa] = \\varphi_{nx}[\\kappa] = 0$ and $\\varphi_{nn}[\\kappa] = N_0 \\cdot \\delta[\\kappa]$. Introducing this into above results for additive random signals yields the following relations for the AWGN model\n",
    "\n",
    "\\begin{align}\n",
    "\\varphi_{yy}[\\kappa] &= \\varphi_{xx}[\\kappa] + N_0 \\cdot \\delta[\\kappa] \\\\\n",
    "\\varphi_{ny}[\\kappa] &= N_0 \\cdot \\delta[\\kappa] \\\\\n",
    "\\varphi_{xy}[\\kappa] &= \\varphi_{xx}[\\kappa]\n",
    "\\end{align}\n",
    "\n",
    "The PSDs are given as the DTFTs of the ACF/CCFs. The AWGN model is frequently assumed in communications as well as in the measurement of physical quantities to cope for background, sensor and amplifier noise."
   ]
  },
  {
   "cell_type": "markdown",
   "metadata": {},
   "source": [
    "#### Example\n",
    "\n",
    "For the following numerical example, the disturbance of a harmonic signal $x[k] = \\cos(\\Omega_0 k)$ by unit variance AWGN is considered."
   ]
  },
  {
   "cell_type": "code",
   "execution_count": 2,
   "metadata": {
    "collapsed": false
   },
   "outputs": [
    {
     "data": {
      "image/png": "[encoded data removed]",
      "text/plain": [
       "<matplotlib.figure.Figure at 0x1113a9908>"
      ]
     },
     "metadata": {},
     "output_type": "display_data"
    }
   ],
   "source": [
    "N = 1024  # length of signals\n",
    "K = 20  # maximum lag for ACF/CCF\n",
    "\n",
    "# generate signals\n",
    "x = np.cos(20*2*np.pi/N*np.arange(N))\n",
    "np.random.seed(2)\n",
    "n = np.random.normal(size=N)\n",
    "# superposition of signals\n",
    "y = x + n\n",
    "\n",
    "# compute and truncate ACF of superposition\n",
    "acf = 1/N * np.correlate(y, y, mode='full')\n",
    "acf = acf[(len(x)-1)-(K-1):(len(x)-1)+K]\n",
    "# compute and truncate CCF of superposition and noise\n",
    "ccf = 1/N * np.correlate(n, y, mode='full')\n",
    "ccf = ccf[(len(x)-1)-(K-1):(len(x)-1)+K]\n",
    "\n",
    "# plot results\n",
    "kappa = np.arange(-(K-1), K)\n",
    "plt.figure(figsize=(10, 4))\n",
    "\n",
    "plt.subplot(121)\n",
    "plt.stem(kappa, acf)\n",
    "plt.title('ACF of superposition')\n",
    "plt.xlabel(r'$\\kappa$')\n",
    "plt.ylabel(r'$\\varphi_{yy}[\\kappa]$')\n",
    "plt.axis([-K, K, -.5, 1.1*np.max(acf)])\n",
    "\n",
    "plt.subplot(122)\n",
    "plt.stem(kappa, ccf)\n",
    "plt.title('CCF between noise and superposition')\n",
    "plt.xlabel(r'$\\kappa$')\n",
    "plt.ylabel(r'$\\varphi_{ny}[\\kappa]$')\n",
    "plt.axis([-K, K, -.2, 1.1]);"
   ]
  },
  {
   "cell_type": "markdown",
   "metadata": {},
   "source": [
    "**Exercise**\n",
    "\n",
    "* Derive the theoretic result for $\\varphi_{xx}[\\kappa]$\n",
    "* Based on this, can you explain the results of the numerical simulation?\n",
    "\n",
    "The ACF of the deterministic signal $x[k] = \\cos(\\Omega_0 k)$ is computed via temporal averaging. Since $x[k]$ is periodic, the ACF $\\varphi_{xx}[\\kappa]$ is also periodic. It is hence sufficient to perform the temporal averaging over one period $N = \\frac{2 \\pi}{\\Omega_0}$ with $N \\in \\mathbb{Z}$\n",
    "\n",
    "\\begin{align}\n",
    "\\varphi_{xx}[\\kappa] &= \\frac{1}{N} \\sum_{k=0}^{N-1} x[k] \\cdot x[k-\\kappa] \\\\\n",
    "&= \\frac{1}{N} \\sum_{k=0}^{N-1} \\cos(\\Omega_0 k) \\cdot \\cos(\\Omega_0 (k-\\kappa))\n",
    "\\end{align}\n",
    "\n",
    "Applying the [product-to-sum identity](https://en.wikipedia.org/wiki/List_of_trigonometric_identities#Product-to-sum_and_sum-to-product_identities) of the cosine function and rearranging terms yields\n",
    "\n",
    "\\begin{equation}\n",
    "\\varphi_{xx}[\\kappa] = \\frac{1}{2} \\cos(\\Omega_0 \\kappa) + \\frac{1}{2N} \\sum_{k=0}^{N-1} \\cos(2 \\Omega_0 k - \\Omega_0 \\kappa)\n",
    "\\end{equation}\n",
    "\n",
    "The remaining sum over the phase shifted cosine $\\cos(2 \\Omega_0 k - \\Omega_0 \\kappa)$ is zero since the summation is carried out over two full periods. The ACF of a cosine signal is then given as\n",
    "\n",
    "\\begin{equation}\n",
    "\\varphi_{xx}[\\kappa] = \\frac{1}{2} \\cos(\\Omega_0 \\kappa)\n",
    "\\end{equation}\n",
    "\n",
    "Introducing this into the relations for the AWGN model, the ACF of the superposition $\\varphi_{yy}[\\kappa]= \\frac{1}{2} \\cos(\\Omega_0 \\kappa) + \\delta[\\kappa]$. Taking the statistical uncertainty due to a finite number of samples into account, this analytic result coincides with the result of the numerical evaluation shown above."
   ]
  },
  {
   "cell_type": "markdown",
   "metadata": {
    "nbsphinx": "hidden"
   },
   "source": [
    "\n",
    "**Copyright**\n",
    "\n",
    "This notebook is provided as [Open Educational Resource](https://en.wikipedia.org/wiki/Open_educational_resources). Feel free to use the notebook for your own purposes. The text is licensed under [Creative Commons Attribution 4.0](https://creativecommons.org/licenses/by/4.0/), the code of the IPython examples under the [MIT license](https://opensource.org/licenses/MIT). Please attribute the work as follows: *Sascha Spors, Digital Signal Processing - Lecture notes featuring computational examples, 2016-2017*."
   ]
  }
 ],
 "metadata": {
  "anaconda-cloud": {},
  "kernelspec": {
   "display_name": "Python 3",
   "language": "python",
   "name": "python3"
  },
  "language_info": {
   "codemirror_mode": {
    "name": "ipython",
    "version": 3
   },
   "file_extension": ".py",
   "mimetype": "text/x-python",
   "name": "python",
   "nbconvert_exporter": "python",
   "pygments_lexer": "ipython3",
   "version": "3.5.2"
  }
 },
 "nbformat": 4,
 "nbformat_minor": 0
}
