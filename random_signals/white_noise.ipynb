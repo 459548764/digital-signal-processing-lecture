{
 "cells": [
  {
   "cell_type": "markdown",
   "metadata": {},
   "source": [
    "# Random Signals\n",
    "\n",
    "*This jupyter/Python notebook is part of a [collection of notebooks](../index.ipynb) in the masters module [Digital Signal Processing](http://www.int.uni-rostock.de/Digitale-Signalverarbeitung.48.0.html), Comunications Engineering, Universität Rostock. Please direct questions and suggestions to <mailto:Sascha.Spors@uni-rostock.de>.*"
   ]
  },
  {
   "cell_type": "markdown",
   "metadata": {},
   "source": [
    "## White Noise"
   ]
  },
  {
   "cell_type": "markdown",
   "metadata": {},
   "source": [
    "### Definition\n",
    "\n",
    "[White noise](https://en.wikipedia.org/wiki/White_noise) is a random signal with a constant power spectral density (PSD). White noise draws its name from the analogy to white light. It refers typically to a model of random signals, like e.g. measurement noise. For a mean-free random signal $x[k]$, its PSD reads\n",
    "\n",
    "$$ \\Phi_{xx}(\\mathrm{e}^{\\,\\mathrm{j}\\, \\Omega}) = N_0 $$\n",
    "\n",
    "where $N_0$ denotes the power per frequency. The auto-correlation function of white noise can be derived by inverse discrete-time Fourier transformation (DTFT) of the PSD\n",
    "\n",
    "$$ \\varphi_{xx}[\\kappa] = \\mathcal{F}_* \\{ N_0 \\} = N_0 \\; \\delta[\\kappa] $$\n",
    "\n",
    "Hence, neighboring samples $k$ and $k+1$ are uncorrelated and have no statistical dependencies. The probability density function (PDF) of white noise is not necessarily normally distributed. Hence, it is necessary to additionally state the amplitude distribution when classifying a signal as white noise."
   ]
  },
  {
   "cell_type": "markdown",
   "metadata": {},
   "source": [
    "### Example\n",
    "\n",
    "Toolboxes for numerical mathematics like `Numpy` or `scipy.stats` provide functions to draw random uncorrelated samples from various PDFs. In order to evaluate this, a function is defined to compute and plot the PDF and CDF for a given random signal $x[k]$."
   ]
  },
  {
   "cell_type": "code",
   "execution_count": null,
   "metadata": {
    "collapsed": true
   },
   "outputs": [],
   "source": [
    "%matplotlib inline\n",
    "import numpy as np\n",
    "import matplotlib.pyplot as plt\n",
    "\n",
    "def compute_plot_pdf_acf(x, nbins=50, acf_range=30):\n",
    "    \n",
    "    # compute and truncate ACF\n",
    "    acf = 1/len(x) * np.correlate(x, x, mode='full')\n",
    "    acf = acf[len(x)-acf_range-1:len(x)+acf_range-1]\n",
    "    kappa = np.arange(-acf_range, acf_range)\n",
    "    \n",
    "    # plot PSD\n",
    "    plt.figure(figsize = (10, 6))\n",
    "    plt.subplot(121)\n",
    "    plt.hist(x, nbins, normed=True)\n",
    "    plt.title('Estimated PDF')\n",
    "    plt.xlabel(r'$\\theta$')\n",
    "    plt.ylabel(r'$\\hat{p}_x(\\theta)$')\n",
    "\n",
    "    # plot ACF\n",
    "    plt.subplot(122)\n",
    "    plt.stem(kappa, acf)\n",
    "    plt.title('Estimated ACF')\n",
    "    plt.ylabel(r'$\\hat{\\varphi}_{xx}[\\kappa]$')\n",
    "    plt.xlabel(r'$\\kappa$')\n",
    "    plt.axis([-acf_range, acf_range, 0, 1.1*max(acf)]);\n",
    "    plt.grid()"
   ]
  },
  {
   "cell_type": "markdown",
   "metadata": {},
   "source": [
    "For samples drawn from a mean-free uniform distribution the PDF and ACF are estimated as"
   ]
  },
  {
   "cell_type": "code",
   "execution_count": null,
   "metadata": {
    "collapsed": false
   },
   "outputs": [],
   "source": [
    "compute_plot_pdf_acf(np.random.uniform(size=10000)-1/2)"
   ]
  },
  {
   "cell_type": "markdown",
   "metadata": {},
   "source": [
    "For samples drawn from a mean-free Laplace distribution the PDF and ACF are estimated as"
   ]
  },
  {
   "cell_type": "code",
   "execution_count": null,
   "metadata": {
    "collapsed": false
   },
   "outputs": [],
   "source": [
    "compute_plot_pdf_acf(np.random.laplace(size=10000))"
   ]
  },
  {
   "cell_type": "markdown",
   "metadata": {},
   "source": [
    "**Exercise**\n",
    "\n",
    "* Do both random processes represent white noise?\n",
    "* How does the ACF change if you lower the length `size` of the random signal. Why?"
   ]
  },
  {
   "cell_type": "markdown",
   "metadata": {},
   "source": [
    "** Copyright **\n",
    "\n",
    "<p xmlns:dct=\"http://purl.org/dc/terms/\">\n",
    "  <a rel=\"license\"\n",
    "     href=\"http://creativecommons.org/publicdomain/zero/1.0/\">\n",
    "    <img src=\"http://i.creativecommons.org/p/zero/1.0/88x31.png\" style=\"border-style: none;\" alt=\"CC0\" />\n",
    "  </a>\n",
    "  <br />\n",
    "  To the extent possible under law,\n",
    "  <span rel=\"dct:publisher\" resource=\"[_:publisher]\">the person who associated CC0</span>\n",
    "  with this work has waived all copyright and related or neighboring\n",
    "  rights to this work.\n",
    "</p>"
   ]
  }
 ],
 "metadata": {
  "kernelspec": {
   "display_name": "Python 3",
   "language": "python",
   "name": "python3"
  },
  "language_info": {
   "codemirror_mode": {
    "name": "ipython",
    "version": 3
   },
   "file_extension": ".py",
   "mimetype": "text/x-python",
   "name": "python",
   "nbconvert_exporter": "python",
   "pygments_lexer": "ipython3",
   "version": "3.4.3"
  }
 },
 "nbformat": 4,
 "nbformat_minor": 0
}
