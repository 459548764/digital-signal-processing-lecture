{
 "cells": [
  {
   "cell_type": "markdown",
   "metadata": {
    "nbsphinx": "hidden"
   },
   "source": [
    "# Random Signals\n",
    "\n",
    "*This jupyter notebook is part of a [collection of notebooks](../index.ipynb) on various topics of Digital Signal Processing. Please direct questions and suggestions to [Sascha.Spors@uni-rostock.de](mailto:Sascha.Spors@uni-rostock.de).*"
   ]
  },
  {
   "cell_type": "markdown",
   "metadata": {},
   "source": [
    "## Ensemble Averages\n",
    "\n",
    "Ensemble averages characterize the average properties of a random process across the population of all possible sample functions in the ensemble. We distinguish between first- and higher-order ensemble averages. The former consider the average properties of the sample functions of one random process for one particular time-instant $k$, while the latter take more than one random process at different time-instants into account."
   ]
  },
  {
   "cell_type": "markdown",
   "metadata": {},
   "source": [
    "### First-Order Ensemble Averages"
   ]
  },
  {
   "cell_type": "markdown",
   "metadata": {},
   "source": [
    "#### Definition\n",
    "\n",
    "The first-order ensemble average of a continuous-amplitude real-valued random signal $x[k]$ is defined as\n",
    "\n",
    "\\begin{equation}\n",
    "E\\{ f(x[k]) \\} = \\lim_{N \\to \\infty} \\frac{1}{N} \\sum_{n=0}^{N-1} f(x_n[k])\n",
    "\\end{equation}\n",
    "\n",
    "where $E\\{ \\cdot \\}$ denotes the expectation operator, $x_n[k]$ the $n$-th sample function and $f(\\cdot)$ an arbitrary mapping function. It is evident from the definition that the ensemble average can only be given exactly for random processes where the internal structure is known. For practical random processes, like e.g. speech, the ensemble average can only be approximated by a finite but sufficiently large number $N$ of sample functions.\n",
    "\n",
    "The ensemble average can also be given in terms of the univariate probability density function (PDF)\n",
    "\n",
    "\\begin{equation}\n",
    "E\\{ f(x[k]) \\} = \\int\\limits_{-\\infty}^{\\infty} f(\\theta) \\, p_x(\\theta, k) \\, \\mathrm{d}\\theta\n",
    "\\end{equation}"
   ]
  },
  {
   "cell_type": "markdown",
   "metadata": {},
   "source": [
    "#### Properties\n",
    "\n",
    "The following properties can be concluded from the definition of the ensemble average:\n",
    "\n",
    "1. The ensemble averages for two different time-instants $k_1$ and $k_2$ differ in general\n",
    "\n",
    "    \\begin{equation}\n",
    "    E\\{ f(x[k_1]) \\} \\neq E\\{ f(x[k_2]) \\}\n",
    "    \\end{equation}\n",
    "    \n",
    "2. For a linear mapping $f(x[k]) = C \\cdot x[k]$ with $C \\in \\mathbb{R} \\setminus \\{0\\}$, the ensemble average is a linear operation\n",
    "    \n",
    "    \\begin{equation}\n",
    "    E\\{ A \\cdot x[k] + B \\cdot y[k] \\} = A \\cdot E\\{ x[k] \\} + B \\cdot E\\{ y[k] \\}\n",
    "    \\end{equation}\n",
    "\n",
    "3. For a deterministic signal $x_n[k] = s[k]$ $\\forall n$ the ensemble average is \n",
    "\n",
    "    \\begin{equation}\n",
    "    E\\{ f(s[k]) \\} = f(s[k])\n",
    "    \\end{equation}\n",
    "\n",
    "The choice of the mapping function $f(\\cdot)$ determines the particular property of the random process which is characterized by the ensemble average. Common choices are discussed in the following."
   ]
  },
  {
   "cell_type": "markdown",
   "metadata": {},
   "source": [
    "#### Linear mean\n",
    "\n",
    "The linear [mean](https://en.wikipedia.org/wiki/Mean), which is given for $f(x[k]) = x[k]$, is the arithmetic mean value across all sample functions $x_n[k]$ for a given time instant $k$. \n",
    "\n",
    "Introducing $f(x[k]) = x[k]$ into the definition of the ensemble average yields\n",
    "\n",
    "\\begin{equation}\n",
    "\\mu_x[k] = E\\{ x[k] \\} = \\int\\limits_{-\\infty}^{\\infty} \\theta \\, p_x(\\theta, k) \\, \\mathrm{d}\\theta\n",
    "\\end{equation}\n",
    "\n",
    "where $\\mu_x[k]$ commonly denotes the linear mean. A process with $\\mu_x[k] = 0$ is termed as *zero-mean* or *mean-free*. Note that $\\mu_x$ should not be confused with the discrete frequency index of the DFT."
   ]
  },
  {
   "cell_type": "markdown",
   "metadata": {},
   "source": [
    "#### Quadratic mean\n",
    "\n",
    "The quadratic mean is given for $f(x[k]) = x^2[k]$\n",
    "\n",
    "\\begin{equation}\n",
    "E\\{ x^2[k] \\} = \\int\\limits_{-\\infty}^{\\infty} \\theta^2 \\, p_x(\\theta, k) \\, \\mathrm{d}\\theta\n",
    "\\end{equation}\n",
    "\n",
    "It quantifies the average instantaneous power of a sample function for a given time index $k$."
   ]
  },
  {
   "cell_type": "markdown",
   "metadata": {},
   "source": [
    "#### Variance\n",
    "\n",
    "The [variance](https://en.wikipedia.org/wiki/Variance) is defined as the quadratic mean of a zero-mean random process. For a general random process with linear mean $\\mu_x$ it is given as\n",
    "\n",
    "\\begin{equation}\n",
    "\\sigma_x^2[k] = E\\{ (x[k] - \\mu_x[k])^2 \\}\n",
    "\\end{equation}\n",
    "\n",
    "where $\\sigma_x^2[k]$ commonly denotes the variance, $\\sigma_x[k]$ is known as the [standard deviation](https://en.wikipedia.org/wiki/Standard_deviation). Note that the subtraction of the linear mean $\\mu_x$ from the samples $x_n[k]$ makes a random signal mean-free. The variance characterizes how far the amplitude values of a random signal are spread out from its mean value.\n",
    "\n",
    "The variance can be given in terms of the linear and quadratic mean as\n",
    "\n",
    "\\begin{equation}\n",
    "\\sigma_x^2[k] = E\\{ x^2[k] \\} - \\mu_x^2[k]\n",
    "\\end{equation}\n",
    "\n",
    "**Excercise**\n",
    "\n",
    "* Derive the relation above from the definitions and properties of the first order ensemble average."
   ]
  },
  {
   "cell_type": "markdown",
   "metadata": {},
   "source": [
    "#### Example - Linear and quadratic mean, and variance of a random process\n",
    "\n",
    "The following example computes and plots the linear $\\mu_x$ and quadratic mean, and variance $\\sigma_x^2$ of a random process. Since in practice only a limited number $N$ of sample functions can be evaluated numerically the true values of these quantities are only approximated/estimated. Estimated quantities are denoted by a 'hat' over the respective quantity, e.g. $\\hat{\\mu}_x[k]$."
   ]
  },
  {
   "cell_type": "code",
   "execution_count": 1,
   "metadata": {
    "collapsed": false
   },
   "outputs": [
    {
     "data": {
      "image/png": "[encoded data removed]",
      "text/plain": [
       "<matplotlib.figure.Figure at 0x10a8b1828>"
      ]
     },
     "metadata": {},
     "output_type": "display_data"
    },
    {
     "data": {
      "image/png": "[encoded data removed]",
      "text/plain": [
       "<matplotlib.figure.Figure at 0x10c2ebdd8>"
      ]
     },
     "metadata": {},
     "output_type": "display_data"
    },
    {
     "data": {
      "image/png": "[encoded data removed]",
      "text/plain": [
       "<matplotlib.figure.Figure at 0x10c2f47f0>"
      ]
     },
     "metadata": {},
     "output_type": "display_data"
    },
    {
     "data": {
      "image/png": "[encoded data removed]",
      "text/plain": [
       "<matplotlib.figure.Figure at 0x10c3fc208>"
      ]
     },
     "metadata": {},
     "output_type": "display_data"
    }
   ],
   "source": [
    "%matplotlib inline\n",
    "import numpy as np\n",
    "import matplotlib.pyplot as plt\n",
    "\n",
    "K = 64  # number of random samples\n",
    "N = 1000  # number of sample functions\n",
    "\n",
    "\n",
    "# generate the sample functions\n",
    "np.random.seed(5)\n",
    "x = np.random.normal(size=(N, K))\n",
    "x += np.tile(np.cos(2*np.pi/K*np.arange(K)), [N, 1])\n",
    "\n",
    "# estimate the linear mean as ensemble average\n",
    "mu = 1/N * np.sum(x, 0)\n",
    "# estimate the quadratic mean\n",
    "qu = 1/N * np.sum(x**2, 0)\n",
    "# estimate the variance\n",
    "sigma = 1/N * np.sum((x-mu)**2, 0)\n",
    "\n",
    "\n",
    "# plot results\n",
    "plt.rc('figure', figsize=(10, 3))\n",
    "\n",
    "plt.figure()\n",
    "plt.stem(x[0, :])\n",
    "plt.title(r'Sample function $x_0[k]$')\n",
    "plt.xlabel(r'$k$')\n",
    "plt.ylabel(r'$x_0[k]$')\n",
    "plt.axis([0, K, -3, 3])\n",
    "\n",
    "plt.figure()\n",
    "plt.stem(mu)\n",
    "plt.title(r'Estimate of linear mean')\n",
    "plt.xlabel(r'$k$')\n",
    "plt.ylabel(r'$\\hat{\\mu}_x[k]$')\n",
    "plt.axis([0, K, -1.5, 1.5])\n",
    "\n",
    "plt.figure()\n",
    "plt.stem(qu)\n",
    "plt.title(r'Estimate of quadratic mean')\n",
    "plt.xlabel(r'$k$')\n",
    "plt.ylabel(r'$\\hat{E}\\{x^2[k]\\}$')\n",
    "plt.axis([0, K, 0, 2.5])\n",
    "\n",
    "plt.figure()\n",
    "plt.stem(sigma)\n",
    "plt.title(r'Estimate of variance')\n",
    "plt.xlabel(r'$k$')\n",
    "plt.ylabel(r'$\\hat{\\sigma}^2_x[k]$')\n",
    "plt.axis([0, K, 0, 1.5]);"
   ]
  },
  {
   "cell_type": "markdown",
   "metadata": {},
   "source": [
    "**Exercise**\n",
    "\n",
    "* What does the linear and quadratic mean, and the variance tell you about the average behavior of the sample functions?\n",
    "* Change the number `N` of sample functions and rerun the example. What influence has a decrease/increase of the sample functions on the estimated ensemble averages?\n",
    "\n",
    "Inspection of the estimated linear mean reveals that in average the sample functions follow a cosine function with respect to the sample index $k$. The variance shows that the amount of which the samples for one particular time-instant $k$ of the sample functions are spread around the linear mean is constant. The estimate of the quadratic mean is given as $\\hat{E}\\{ x^2[k] \\} = \\hat{\\mu}_x^2[k] + \\hat{\\sigma}_x^2[k]$. The higher the number $N$ of sample functions used for the estimate of the ensemble averages, the lower the uncertainty in comparison to the true values becomes. "
   ]
  },
  {
   "cell_type": "markdown",
   "metadata": {},
   "source": [
    "### Second-Order Ensemble Averages"
   ]
  },
  {
   "cell_type": "markdown",
   "metadata": {},
   "source": [
    "#### Definition\n",
    "\n",
    "The second-order ensemble average of two continuous-amplitude real-valued random signals $x[k]$ and $y[k]$ is defined as\n",
    "\n",
    "\\begin{equation}\n",
    "E\\{ f(x[k_x], y[k_y]) \\} := \\lim_{N \\to \\infty} \\frac{1}{N} \\sum_{n=0}^{N-1} f(x_n[k_x], y_n[k_y])\n",
    "\\end{equation}\n",
    "\n",
    "It can be given in terms of the bivariate PDF as\n",
    "\n",
    "\\begin{equation}\n",
    "E\\{ f(x[k_x], y[k_y]) \\} = \\iint\\limits_{-\\infty}^{\\infty} f(\\theta_x, \\theta_y) \\, p_{xy}(\\theta_x, \\theta_y, k_x, k_y) \\, \\mathrm{d}\\theta_x\\, \\mathrm{d}\\theta_y\n",
    "\\end{equation}\n",
    "\n",
    "By setting $y[k] = x[k]$, the second-order ensemble average can also be used to characterize the average properties of the sample functions at two different time-instants $k_x$ and $k_y$.\n",
    "\n",
    "The definition of the second-order ensemble average can be extended straightforward to the case of more than two random variables. The resulting ensemble average is termed as higher-order ensemble average.\n",
    "\n",
    "The choice of the mapping function $f(\\cdot)$ determines the particular property of the random process which is characterized by the ensemble average. The case of a linear mapping is discussed in the following."
   ]
  },
  {
   "cell_type": "markdown",
   "metadata": {},
   "source": [
    "#### Cross-correlation function\n",
    "\n",
    "The [cross-correlation function](https://en.wikipedia.org/wiki/Cross-correlation) (CCF) of two random signals $x[k]$ and $y[k]$ is defined as the second-order ensemble average for a linear mapping $f(x[k_x], y[k_y]) = x[k_x] \\cdot y[k_y]$\n",
    "\n",
    "\\begin{equation}\n",
    "\\varphi_{xy}[k_x, k_y] = E\\{ x[k_x] \\cdot y[k_y] \\}\n",
    "\\end{equation}\n",
    "\n",
    "It characterizes the statistical dependencies of two random signals $x[k]$ and $y[k]$ at two different time instants $k_x$ and $k_y$."
   ]
  },
  {
   "cell_type": "markdown",
   "metadata": {},
   "source": [
    "#### Auto-correlation function\n",
    "\n",
    "The [auto-correlation function](https://en.wikipedia.org/wiki/Autocorrelation) (ACF) of a random signal $x[k]$ is defined as the second-order ensemble average for a linear mapping $f(x[k_x], y[k_y]) = x[k_1] \\cdot x[k_2]$\n",
    "\n",
    "\\begin{equation}\n",
    "\\varphi_{xx}[k_1, k_2] = E\\{ x[k_1] \\cdot x[k_2] \\}\n",
    "\\end{equation}\n",
    "\n",
    "It characterizes the average statistical dependencies between the samples of a random signal $x[k]$ at two different time instants $k_1$ and $k_2$."
   ]
  },
  {
   "cell_type": "markdown",
   "metadata": {
    "nbsphinx": "hidden"
   },
   "source": [
    "**Copyright**\n",
    "\n",
    "This notebook is provided as [Open Educational Resource](https://en.wikipedia.org/wiki/Open_educational_resources). Feel free to use the notebook for your own purposes. The text is licensed under [Creative Commons Attribution 4.0](https://creativecommons.org/licenses/by/4.0/), the code of the IPython examples under the [MIT license](https://opensource.org/licenses/MIT). Please attribute the work as follows: *Sascha Spors, Digital Signal Processing - Lecture notes featuring computational examples, 2016*."
   ]
  }
 ],
 "metadata": {
  "kernelspec": {
   "display_name": "Python 3",
   "language": "python",
   "name": "python3"
  },
  "language_info": {
   "codemirror_mode": {
    "name": "ipython",
    "version": 3
   },
   "file_extension": ".py",
   "mimetype": "text/x-python",
   "name": "python",
   "nbconvert_exporter": "python",
   "pygments_lexer": "ipython3",
   "version": "3.5.1"
  }
 },
 "nbformat": 4,
 "nbformat_minor": 0
}
