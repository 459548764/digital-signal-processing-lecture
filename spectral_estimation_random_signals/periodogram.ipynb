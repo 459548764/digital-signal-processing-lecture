{
 "cells": [
  {
   "cell_type": "markdown",
   "metadata": {
    "nbsphinx": "hidden"
   },
   "source": [
    "# Spectral Estimation of Random Signals\n",
    "\n",
    "*This jupyter notebook is part of a [collection of notebooks](../index.ipynb) on various topics of Digital Signal Processing. Please direct questions and suggestions to [Sascha.Spors@uni-rostock.de](mailto:Sascha.Spors@uni-rostock.de).*"
   ]
  },
  {
   "cell_type": "markdown",
   "metadata": {},
   "source": [
    "## The Periodogram\n",
    "\n",
    "The [periodogram](https://en.wikipedia.org/wiki/Spectral_density_estimation#Periodogram) is an estimator for the power spectral density (PSD) $\\Phi_{xx}(\\mathrm{e}^{\\,\\mathrm{j}\\,\\Omega})$ of a random signal $x[k]$. For the following it is assumed that $x[k]$ is drawn from a wide-sense ergodic real-valued random process."
   ]
  },
  {
   "cell_type": "markdown",
   "metadata": {
    "collapsed": true
   },
   "source": [
    "### Definition\n",
    "\n",
    "The PSD is defined as the [discrete-time Fourier transformation (DTFT) of the auto-correlation function (ACF)](../random_signals/power_spectral_densities.ipynb#Definition)\n",
    "\n",
    "\\begin{equation}\n",
    "\\Phi_{xx}(\\mathrm{e}^{\\,\\mathrm{j}\\,\\Omega}) = \\mathcal{F}_* \\{ \\varphi_{xx}[\\kappa] \\}\n",
    "\\end{equation}\n",
    "\n",
    "Hence, the PSD can be computed from an estimate of the ACF. Let's assume that we want to estimate the PSD from $N$ samples of the random signal $x[k]$ by way of the ACF. The signal $x[k]$ is truncated to $N$ samples by multiplication (windowing) with the rectangular signal $\\text{rect}_N[k]$ of length $N$\n",
    "\n",
    "\\begin{equation}\n",
    "x_N[k] = x[k] \\cdot \\text{rect}_N[k]\n",
    "\\end{equation}\n",
    "\n",
    "where $x_N[k]$ denotes the truncated signal.\n",
    "The ACF is estimated by applying its definition in a straightforward manner. For a random signal $x_N[k]$ of finite length, the estimated ACF $\\hat{\\varphi}_{xx}[\\kappa]$ can be expressed [in terms of a convolution](../random_signals/correlation_functions.ipynb#Definition)\n",
    "\n",
    "\\begin{equation}\n",
    "\\hat{\\varphi}_{xx}[\\kappa] = \\frac{1}{N} \\cdot x_N[k] * x_N[-k]\n",
    "\\end{equation}\n",
    "\n",
    "Applying the DTFT to both sides and rearranging the terms yields\n",
    "\n",
    "\\begin{equation}\n",
    "\\hat{\\Phi}_{xx}(\\mathrm{e}^{\\,\\mathrm{j}\\,\\Omega}) = \\frac{1}{N} \\, X_N(\\mathrm{e}^{\\,\\mathrm{j}\\,\\Omega})\\, X_N(\\mathrm{e}^{\\,-\\mathrm{j}\\,\\Omega}) = \n",
    "\\frac{1}{N} \\, | X_N(\\mathrm{e}^{\\,\\mathrm{j}\\,\\Omega}) |^2\n",
    "\\end{equation}\n",
    "\n",
    "where the intermediate and last equalities result from the symmetry relations of the DTFT. This estimate of the PSD is known as the periodogram. It can be computed directly from the DTFT\n",
    "\n",
    "\\begin{equation}\n",
    "X_N(\\mathrm{e}^{\\,\\mathrm{j}\\,\\Omega}) = \\sum_{k=0}^{N-1} x_N[k] \\, \\mathrm{e}^{\\,-\\mathrm{j}\\,\\Omega\\,k}\n",
    "\\end{equation}\n",
    "\n",
    "of the truncated random signal."
   ]
  },
  {
   "cell_type": "markdown",
   "metadata": {},
   "source": [
    "### Example - Periodogram\n",
    "\n",
    "The following example estimates the PSD of a random process which draws samples from normal distributed white noise with zero mean and unit variance. The true PSD is hence given as $\\Phi_{xx}(\\mathrm{e}^{\\,\\mathrm{j}\\,\\Omega}) = 1$. In order to compute the periodogram by the discrete Fourier transformation (DFT), the signal $x[k]$ has to be zero-padded to ensure that squaring (multiplying) the spectra does not result in a circular convolution."
   ]
  },
  {
   "cell_type": "code",
   "execution_count": 1,
   "metadata": {
    "collapsed": false
   },
   "outputs": [
    {
     "name": "stdout",
     "output_type": "stream",
     "text": [
      "Mean value of the periodogram: 1.023604\n"
     ]
    },
    {
     "data": {
      "image/png": "[encoded data removed]",
      "text/plain": [
       "<matplotlib.figure.Figure at 0x110967c18>"
      ]
     },
     "metadata": {},
     "output_type": "display_data"
    }
   ],
   "source": [
    "%matplotlib inline\n",
    "import numpy as np\n",
    "import matplotlib.pyplot as plt\n",
    "\n",
    "N = 128  # number of samples\n",
    "\n",
    "# generate random signal\n",
    "np.random.seed(5)\n",
    "x = np.random.normal(size=N)\n",
    "\n",
    "# compute magnitude of the periodogram\n",
    "x = np.concatenate((x, np.zeros_like(x)))\n",
    "X = np.fft.rfft(x)\n",
    "Om = np.linspace(0, np.pi, len(X))\n",
    "Sxx = 1/N * abs(X)**2\n",
    "\n",
    "# plot results\n",
    "plt.figure(figsize=(10,4))\n",
    "plt.stem(Om, Sxx, 'b', label=r'$|\\hat{\\Phi}_{xx}(e^{j \\Omega})|$')\n",
    "plt.plot(Om, np.ones_like(Sxx), 'r', label=r'$\\Phi_{xx}(e^{j \\Omega})$')\n",
    "plt.title('Estimated and true PSD')\n",
    "plt.xlabel(r'$\\Omega$')\n",
    "plt.axis([0, np.pi, 0, 5])\n",
    "plt.legend()\n",
    "\n",
    "# compute mean value of the periodogram\n",
    "print('Mean value of the periodogram: %f' %np.mean(np.abs(Sxx)))"
   ]
  },
  {
   "cell_type": "markdown",
   "metadata": {},
   "source": [
    "**Exercise**\n",
    "\n",
    "* What do you have to change to evaluate experimentally if the periodogram is a consistent estimator?\n",
    "* Based on the results, is the periodogram a consistent estimator?\n",
    "\n",
    "The conditions for consistency have to be checked for the limiting case of a infinitely long signal ($N \\to \\infty$). Increasing the length `N` of the random signal in above example reveals that the periodogram can be assumed to be bias free, $b_{\\hat{\\Phi}_{xx}} = 0$. However, its variance $\\sigma^2_{\\hat{\\Phi}_{xx}}$ does not tend to zero. The reason for this is that by increasing the length $N$ of the random signal also the number of spectral coefficients is increased by the same amount."
   ]
  },
  {
   "cell_type": "markdown",
   "metadata": {},
   "source": [
    "### Evaluation\n",
    "\n",
    "From above numerical example it should have become clear that the periodogram is no consistent estimator for the PSD $\\Phi_{xx}(\\mathrm{e}^{\\,\\mathrm{j}\\,\\Omega})$. It can be shown that the estimator is asymptotically bias free for $N \\to \\infty$, hence\n",
    "\n",
    "\\begin{equation}\n",
    "\\lim_{N \\to \\infty} E\\{ \\hat{\\Phi}_{xx}(\\mathrm{e}^{\\,\\mathrm{j}\\,\\Omega})  \\} = \\Phi_{xx}(\\mathrm{e}^{\\,\\mathrm{j}\\,\\Omega})\n",
    "\\end{equation}\n",
    "\n",
    "This is due to the [leakage effect](../spectral_analysis_deterministic_signals/leakage_effect.ipynb) which limits the spectral resolution for signals of finite length.\n",
    "\n",
    "The variance of the estimator does not converge towards zero\n",
    "\n",
    "\\begin{equation}\n",
    "\\lim_{N \\to \\infty} \\sigma^2_{\\hat{\\Phi}_{xx}} \\neq 0\n",
    "\\end{equation}\n",
    "\n",
    "This is due to the fact that by increasing $N$ also the number of independent frequencies $\\Omega = \\frac{2 \\pi}{N} \\mu$ for $\\mu = 0,1,\\dots,N-1$ increases.\n",
    "\n",
    "The periodogram is the basis for a variety of advanced estimation techniques for the PSD. These techniques rely on averaging or smoothing of (overlapping) periodograms."
   ]
  },
  {
   "cell_type": "markdown",
   "metadata": {
    "nbsphinx": "hidden"
   },
   "source": [
    "\n",
    "**Copyright**\n",
    "\n",
    "This notebook is provided as [Open Educational Resource](https://en.wikipedia.org/wiki/Open_educational_resources). Feel free to use the notebook for your own purposes. The text is licensed under [Creative Commons Attribution 4.0](https://creativecommons.org/licenses/by/4.0/), the code of the IPython examples under the [MIT license](https://opensource.org/licenses/MIT). Please attribute the work as follows: *Sascha Spors, Digital Signal Processing - Lecture notes featuring computational examples, 2016-2017*."
   ]
  }
 ],
 "metadata": {
  "anaconda-cloud": {},
  "kernelspec": {
   "display_name": "Python 3",
   "language": "python",
   "name": "python3"
  },
  "language_info": {
   "codemirror_mode": {
    "name": "ipython",
    "version": 3
   },
   "file_extension": ".py",
   "mimetype": "text/x-python",
   "name": "python",
   "nbconvert_exporter": "python",
   "pygments_lexer": "ipython3",
   "version": "3.5.2"
  }
 },
 "nbformat": 4,
 "nbformat_minor": 0
}
